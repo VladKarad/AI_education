{
  "nbformat": 4,
  "nbformat_minor": 0,
  "metadata": {
    "colab": {
      "provenance": [],
      "include_colab_link": true
    },
    "kernelspec": {
      "name": "python3",
      "display_name": "Python 3"
    },
    "language_info": {
      "name": "python"
    },
    "accelerator": "GPU"
  },
  "cells": [
    {
      "cell_type": "markdown",
      "metadata": {
        "id": "view-in-github",
        "colab_type": "text"
      },
      "source": [
        "<a href=\"https://colab.research.google.com/github/VladKarad/AI_education/blob/main/ChatBot_Text%20processing_Model_Sequence_to_Sequence_HW_Pro.ipynb\" target=\"_parent\"><img src=\"https://colab.research.google.com/assets/colab-badge.svg\" alt=\"Open In Colab\"/></a>"
      ]
    },
    {
      "cell_type": "markdown",
      "metadata": {
        "id": "xhGFfIoFzgSc"
      },
      "source": [
        "# Добро пожаловать на задание уровня Pro.\n",
        "Необходимо написать чат-бота, испльзуя модель seq2seq.\n",
        "\n",
        "Ссылка на базу https://storage.googleapis.com/datasets_ai/Advanced/3_seq2seq/9kdialogs.txt\n",
        "\n",
        "База содержит примеры пар: вопрос-ответ. По аналогии с моделью преводчика (англ - рус), создайте чат-бота (вопрос - ответ)"
      ]
    },
    {
      "cell_type": "code",
      "source": [
        "# Подключим модуль для загрузки файлов в colab\n",
        "from google.colab import files\n",
        "\n",
        "# Подключим модуль numpy для работы с массивами\n",
        "import numpy as np\n",
        "\n",
        "# Подгрузим модели кераса\n",
        "from tensorflow.keras.models import Model, load_model\n",
        "\n",
        "# Подключим нужные слои\n",
        "from tensorflow.keras.layers import Dense, Embedding, LSTM, Input\n",
        "\n",
        "# Поключим оптимайзеры\n",
        "from tensorflow.keras.optimizers import RMSprop, Adadelta\n",
        "\n",
        "# Подключим метод ограничения последовательности заданной длиной\n",
        "from tensorflow.keras.preprocessing.sequence import pad_sequences\n",
        "\n",
        "# Подключим токенайзер\n",
        "from tensorflow.keras.preprocessing.text import Tokenizer\n",
        "\n",
        "# Подключим модуль для one hot кодировки\n",
        "from tensorflow.keras import utils\n",
        "\n",
        "# Подключим визуализацию графа модели\n",
        "from tensorflow.keras.utils import plot_model\n",
        "\n",
        "# Подключим модуль для работы с yaml - файлами\n",
        "import yaml"
      ],
      "metadata": {
        "id": "K_4GkJ0KGLhn"
      },
      "execution_count": null,
      "outputs": []
    },
    {
      "cell_type": "code",
      "source": [
        "# Загрузим обучающие тексты\n",
        "!wget  https://storage.googleapis.com/datasets_ai/Advanced/3_seq2seq/9kdialogs.txt"
      ],
      "metadata": {
        "colab": {
          "base_uri": "https://localhost:8080/"
        },
        "id": "zCZsipLwF9VI",
        "outputId": "ca24f7f9-c121-4f0c-9973-e46f3d6245e1"
      },
      "execution_count": null,
      "outputs": [
        {
          "output_type": "stream",
          "name": "stdout",
          "text": [
            "--2022-01-11 09:17:06--  https://storage.googleapis.com/datasets_ai/Advanced/3_seq2seq/9kdialogs.txt\n",
            "Resolving storage.googleapis.com (storage.googleapis.com)... 108.177.112.128, 74.125.124.128, 172.217.212.128, ...\n",
            "Connecting to storage.googleapis.com (storage.googleapis.com)|108.177.112.128|:443... connected.\n",
            "HTTP request sent, awaiting response... 200 OK\n",
            "Length: 748135 (731K) [text/plain]\n",
            "Saving to: ‘9kdialogs.txt’\n",
            "\n",
            "\r9kdialogs.txt         0%[                    ]       0  --.-KB/s               \r9kdialogs.txt       100%[===================>] 730.60K  --.-KB/s    in 0.007s  \n",
            "\n",
            "2022-01-11 09:17:07 (105 MB/s) - ‘9kdialogs.txt’ saved [748135/748135]\n",
            "\n"
          ]
        }
      ]
    },
    {
      "cell_type": "code",
      "source": [
        "conversations = [] \n",
        "with open(\"/content/9kdialogs.txt\", 'r', encoding='utf-8') as f: # Открываем файл словаря в режиме чтения\n",
        "    lines = f.read().replace(\"\\n\\n\",\"\").split('- -')                  # Читаем весь файл, режем на строки\n",
        "\n",
        "# Цикл по строкам\n",
        "for i,line in enumerate(lines):\n",
        "    #if i>50000:                                         # Нам нужно только 50000 первых строк\n",
        "    #  break                                             # Заканчиваем цикл\n",
        "    try:\n",
        "        input_text, target_text,_ = line.split(\"\\n\")    # Берем очередную строку, режем по символу табуляции\n",
        "        conversations.append([input_text, target_text]) # Заполняем список пар фраз\n",
        "    except:\n",
        "        continue                                        # если не получается - идем за следущей строкой"
      ],
      "metadata": {
        "id": "mNWZBmKATgaI"
      },
      "execution_count": null,
      "outputs": []
    },
    {
      "cell_type": "code",
      "source": [
        "len(conversations)"
      ],
      "metadata": {
        "colab": {
          "base_uri": "https://localhost:8080/"
        },
        "id": "vIwBoW6vXy1E",
        "outputId": "e3279053-731c-4ca4-e73a-86de4746e81a"
      },
      "execution_count": null,
      "outputs": [
        {
          "output_type": "execute_result",
          "data": {
            "text/plain": [
              "828"
            ]
          },
          "metadata": {},
          "execution_count": 4
        }
      ]
    },
    {
      "cell_type": "code",
      "source": [
        "def my_replacer(s): # Принимаем на вход строку или список\n",
        "\n",
        "    '''\n",
        "    Функция удаления пробелов из строк или списков, в зависимости от того, что подано на вход\n",
        "  \n",
        "    Args:\n",
        "        s - Строка или список\n",
        "    Returns:\n",
        "  \n",
        "        Список строк если получили список\n",
        "        Строку, если получили строку\n",
        "        \n",
        "    '''\n",
        "\n",
        "\n",
        "    if isinstance(s,str): # Если получили строку\n",
        "\n",
        "        # Убираем перед знаками препинания пробел и возвращаем\n",
        "        return s.replace(' .','.').replace(' ,',',').replace(' !','!').replace(' ?','?')\n",
        "\n",
        "    if isinstance(s,list): # Если получили список\n",
        "        ou=[]              # Заготовим пустой список\n",
        "\n",
        "        for l in s:        # Цикл по строкам из списка\n",
        "            ou.append(l.replace(' .','.').replace(' ,',',').replace(' !','!').replace(' ?','?')) # Убираем перед знаками препинания пробел и возвращаем\n",
        "\n",
        "        # Вернем список строк\n",
        "        return ou    "
      ],
      "metadata": {
        "id": "t9GDoYMdY_yU"
      },
      "execution_count": null,
      "outputs": []
    },
    {
      "cell_type": "code",
      "source": [
        "# Собираем вопросы и ответы в списки\n",
        "\n",
        "questions = [] # Переменная для списка входных фраз\n",
        "answers = []   # Переменная для списка ответных фраз\n",
        "\n",
        "# Цикл по всем парам фраз \n",
        "for con in conversations:                 \n",
        "  if len(con) > 1 :                       # Если ответная фраза содержит более одно двух предложений\n",
        "    questions.append(my_replacer(con[0])) # То первую в списке фразу отправляем в список входных фраз\n",
        "    replies = my_replacer(con[1:])        # А ответную составляем из последующих строк\n",
        "    ans = ' '.join(replies)               # Здесь соберем ответ\n",
        "    answers.append(ans)                   # Добавим в список ответов\n",
        "  else:\n",
        "    continue                              # Иначе идем на новой парой фраз\n",
        "\n",
        "# Добавим в каждую ответную фразу теги  <START> и <END>\n",
        "answers = ['<START> ' + s + ' <END>' for s in answers]\n",
        "\n",
        "# Выведем обновленные данные на экран\n",
        "print('Вопрос : {}'.format(questions[111])) # Пример входной фразы\n",
        "print('Ответ : {}'.format(answers[111]))    # Пример ответной фразы"
      ],
      "metadata": {
        "colab": {
          "base_uri": "https://localhost:8080/"
        },
        "id": "_673SgaKZXWz",
        "outputId": "4b24a6fc-4341-419b-e14b-10f2deebdfbf"
      },
      "execution_count": null,
      "outputs": [
        {
          "output_type": "stream",
          "name": "stdout",
          "text": [
            "Вопрос :  Ваша машина?\n",
            "Ответ : <START> - Моя... <END>\n"
          ]
        }
      ]
    },
    {
      "cell_type": "code",
      "source": [
        "# Создадим токенайзер \n",
        "tokenizer = Tokenizer(filters='\"#$%&()*+-/;<=>@[\\\\]^_`{|}~\\t\\n',split=' ')  \n",
        "\n",
        "# Загружаем в токенизатор список фраз для сборки словаря частотности\n",
        "tokenizer.fit_on_texts(questions + answers)         \n",
        "\n",
        "# Список с cодержимым словаря\n",
        "vocabularyItems = list(tokenizer.word_index.items())    \n",
        "\n",
        "# Размер словаря\n",
        "vocabularySize = len(vocabularyItems)+1        \n",
        "\n",
        "# Выведем фрагмент и размер словаря\n",
        "print( 'Фрагмент словаря : {}'.format(vocabularyItems[:50]))       \n",
        "print( 'Размер словаря : {}'.format(vocabularySize))             "
      ],
      "metadata": {
        "colab": {
          "base_uri": "https://localhost:8080/"
        },
        "id": "ONvGpGtlZhWD",
        "outputId": "416c0095-b684-4775-ad96-390dc4b3ce7c"
      },
      "execution_count": null,
      "outputs": [
        {
          "output_type": "stream",
          "name": "stdout",
          "text": [
            "Фрагмент словаря : [('start', 1), ('end', 2), ('что', 3), ('не', 4), ('ты', 5), ('а', 6), ('в', 7), ('это', 8), ('я', 9), ('вы', 10), ('что?', 11), ('да.', 12), ('где', 13), ('у', 14), ('и', 15), ('нет.', 16), ('на', 17), ('как', 18), ('кто', 19), ('с', 20), ('за', 21), ('же', 22), ('тебе', 23), ('он', 24), ('то', 25), ('нет,', 26), ('мне', 27), ('это?', 28), ('вас', 29), ('да,', 30), ('сколько', 31), ('вам', 32), ('еще', 33), ('кого?', 34), ('есть', 35), ('чего', 36), ('ну', 37), ('его', 38), ('только', 39), ('как?', 40), ('из', 41), ('меня', 42), ('она', 43), ('да', 44), ('здесь', 45), ('так', 46), ('тебя', 47), ('все', 48), ('мы', 49), ('ну,', 50)]\n",
            "Размер словаря : 2357\n"
          ]
        }
      ]
    },
    {
      "cell_type": "code",
      "source": [
        "# Разбиваем текст входных фраз на последовательности индексов\n",
        "tokenizedQuestions = tokenizer.texts_to_sequences(questions)\n",
        "\n",
        "# Уточняем длину самой длинной фразы\n",
        "maxLenQuestions = max([ len(x) for x in tokenizedQuestions])\n",
        "\n",
        "# Делаем последовательности одной длины, заполняя нулями более короткие фразы\n",
        "paddedQuestions = pad_sequences(tokenizedQuestions, maxlen=maxLenQuestions, padding='post')\n",
        "\n",
        "# Предподготавливаем данные для входа в сеть, переводим в numpy массив\n",
        "encoderForInput = np.array(paddedQuestions)        \n",
        "\n",
        "# Выведем на экран\n",
        "print('Пример входной фразы                         : {}'.format(questions[100]))         \n",
        "print('Пример кодированной входной фразу            : {}'.format(encoderForInput[100]))  \n",
        "print('Размеры закодированного массива входных фраз : {}'.format(encoderForInput.shape))  \n",
        "print('Установленная длина входных фраз             : {}'.format(maxLenQuestions))        "
      ],
      "metadata": {
        "colab": {
          "base_uri": "https://localhost:8080/"
        },
        "id": "ldIAjkLEZq9b",
        "outputId": "a6d5b81f-62ce-4492-e035-376a03a5ad3c"
      },
      "execution_count": null,
      "outputs": [
        {
          "output_type": "stream",
          "name": "stdout",
          "text": [
            "Пример входной фразы                         :  Кто-то здесь есть.\n",
            "Пример кодированной входной фразу            : [ 19  25  45 140   0   0   0   0   0   0   0]\n",
            "Размеры закодированного массива входных фраз : (828, 11)\n",
            "Установленная длина входных фраз             : 11\n"
          ]
        }
      ]
    },
    {
      "cell_type": "code",
      "source": [
        "# Разбиваем текст ответных фраз на последовательности индексов\n",
        "tokenizedAnswers = tokenizer.texts_to_sequences(answers) \n",
        "\n",
        "# Уточняем длину самого длинного ответа\n",
        "maxLenAnswers = max([len(x) for x in tokenizedAnswers])\n",
        "\n",
        "# Делаем последовательности одной длины, заполняя нулями более ответы\n",
        "paddedAnswers = pad_sequences(tokenizedAnswers, maxlen=maxLenAnswers, padding='post')\n",
        "\n",
        "# Предподготавливаем данные для входа в сеть, переводим в numpy массив\n",
        "decoderForInput = np.array(paddedAnswers)               \n",
        "\n",
        "# Выведем на экран\n",
        "print('Пример оригинального ответа на вход: {}'.format(answers[100]))                         \n",
        "print('Пример кодированного ответа на вход : {}'.format(decoderForInput[100][:30]))           \n",
        "print('Размеры кодированного массива ответов на вход : {}'.format(decoderForInput.shape))     \n",
        "print('Установленная длина ответов на вход : {}'.format(maxLenAnswers))                       "
      ],
      "metadata": {
        "colab": {
          "base_uri": "https://localhost:8080/"
        },
        "id": "IIeA_gAJZxmF",
        "outputId": "c089abd7-fb58-4db6-dcf0-9941cc17d3d1"
      },
      "execution_count": null,
      "outputs": [
        {
          "output_type": "stream",
          "name": "stdout",
          "text": [
            "Пример оригинального ответа на вход: <START> - Это сквозняк, мы просто не прикрыли дверь. <END>\n",
            "Пример кодированного ответа на вход : [   1    8 1469   49  113    4 1470  444    2    0    0    0    0    0\n",
            "    0    0    0]\n",
            "Размеры кодированного массива ответов на вход : (828, 17)\n",
            "Установленная длина ответов на вход : 17\n"
          ]
        }
      ]
    },
    {
      "cell_type": "code",
      "source": [
        "# Разбиваем текст ответов на последовательности индексов\n",
        "tokenizedAnswers = tokenizer.texts_to_sequences(answers) \n",
        "\n",
        "for i in range(len(tokenizedAnswers)) :                  # Для разбитых на последовательности ответов\n",
        "  tokenizedAnswers[i] = tokenizedAnswers[i][1:]          # Избавляемся от тега <START>\n",
        "\n",
        "# Делаем последовательности одной длины, заполняя нулями более короткие ответы\n",
        "paddedAnswers = pad_sequences(tokenizedAnswers, maxlen=maxLenAnswers , padding='post') \n",
        "\n",
        "# И сохраняем в виде массива numpy\n",
        "decoderForOutput = np.array(paddedAnswers)                     "
      ],
      "metadata": {
        "id": "QMrQ_5bAZ4mV"
      },
      "execution_count": null,
      "outputs": []
    },
    {
      "cell_type": "code",
      "source": [
        "# Выведем на экран\n",
        "\n",
        "print('Пример кодированного ответа на вход : {}'.format(decoderForInput[100][:21]))   \n",
        "print('Пример кодированного ответа на выход : {}'.format(decoderForOutput[100][:21]))\n",
        "print('Размеры кодированного массива ответов на выход : {}'.format(decoderForOutput.shape))  \n",
        "print('Установленная длина вопросов на выход : {}'.format(maxLenAnswers))                    "
      ],
      "metadata": {
        "colab": {
          "base_uri": "https://localhost:8080/"
        },
        "id": "DRYq48AbZ7d7",
        "outputId": "3745010d-ae4e-4a39-e552-98024505e8e1"
      },
      "execution_count": null,
      "outputs": [
        {
          "output_type": "stream",
          "name": "stdout",
          "text": [
            "Пример кодированного ответа на вход : [   1    8 1469   49  113    4 1470  444    2    0    0    0    0    0\n",
            "    0    0    0]\n",
            "Пример кодированного ответа на выход : [   8 1469   49  113    4 1470  444    2    0    0    0    0    0    0\n",
            "    0    0    0]\n",
            "Размеры кодированного массива ответов на выход : (828, 17)\n",
            "Установленная длина вопросов на выход : 17\n"
          ]
        }
      ]
    },
    {
      "cell_type": "code",
      "source": [
        "# Создадим энкодер \n",
        "\n",
        "encoderInputs = Input(shape=(None , ))                                               # Добавим входной слой\n",
        "encoderEmbedding = Embedding(vocabularySize, 200 , mask_zero=True)(encoderInputs)    # Добавим эмбеддинг\n",
        "encoderOutputs, state_h , state_c = LSTM(200, return_state=True)(encoderEmbedding)   # Добавим LSTM\n",
        "encoderStates = [state_h, state_c]                                                   # Соберем выходы lstm  в список    \n",
        "\n",
        "# Создадим декодер \n",
        "\n",
        "decoderInputs = Input(shape=(None, ))                                                # Добавим входной слой\n",
        "decoderEmbedding = Embedding(vocabularySize, 200, mask_zero=True) (decoderInputs)    # Добавим эмбеддинг\n",
        "decoderLSTM = LSTM(200, return_state=True, return_sequences=True)                    # Создадим LSTM слой\n",
        "decoderOutputs , _ , _ = decoderLSTM (decoderEmbedding, initial_state=encoderStates) # Прогоним выход embedding через LSTM\n",
        "decoderDense = Dense(vocabularySize, activation='softmax')                           # Создадим dense слой\n",
        "output = decoderDense (decoderOutputs)                                               # Прогоним  выход LSTM через DENSE\n",
        "\n",
        "model = Model([encoderInputs, decoderInputs], output)                                # Собираем модель\n",
        "model.compile(optimizer=RMSprop(), loss='sparse_categorical_crossentropy')           # Компилиуем модель\n",
        "print(model.summary())                                                               # Выведем на экран информацию о построенной модели нейросети\n",
        "\n",
        "\n",
        "# Построим график для визуализации слоев и связей между ними\n",
        "plot_model(model)"
      ],
      "metadata": {
        "colab": {
          "base_uri": "https://localhost:8080/",
          "height": 942
        },
        "id": "-Oh7AsLfZ_sr",
        "outputId": "d0f7e579-0391-4183-d358-7cc1c9dfb128"
      },
      "execution_count": null,
      "outputs": [
        {
          "output_type": "stream",
          "name": "stdout",
          "text": [
            "Model: \"model\"\n",
            "__________________________________________________________________________________________________\n",
            " Layer (type)                   Output Shape         Param #     Connected to                     \n",
            "==================================================================================================\n",
            " input_1 (InputLayer)           [(None, None)]       0           []                               \n",
            "                                                                                                  \n",
            " input_2 (InputLayer)           [(None, None)]       0           []                               \n",
            "                                                                                                  \n",
            " embedding (Embedding)          (None, None, 200)    471400      ['input_1[0][0]']                \n",
            "                                                                                                  \n",
            " embedding_1 (Embedding)        (None, None, 200)    471400      ['input_2[0][0]']                \n",
            "                                                                                                  \n",
            " lstm (LSTM)                    [(None, 200),        320800      ['embedding[0][0]']              \n",
            "                                 (None, 200),                                                     \n",
            "                                 (None, 200)]                                                     \n",
            "                                                                                                  \n",
            " lstm_1 (LSTM)                  [(None, None, 200),  320800      ['embedding_1[0][0]',            \n",
            "                                 (None, 200),                     'lstm[0][1]',                   \n",
            "                                 (None, 200)]                     'lstm[0][2]']                   \n",
            "                                                                                                  \n",
            " dense (Dense)                  (None, None, 2357)   473757      ['lstm_1[0][0]']                 \n",
            "                                                                                                  \n",
            "==================================================================================================\n",
            "Total params: 2,058,157\n",
            "Trainable params: 2,058,157\n",
            "Non-trainable params: 0\n",
            "__________________________________________________________________________________________________\n",
            "None\n"
          ]
        },
        {
          "output_type": "execute_result",
          "data": {
            "image/png": "[encoded data removed]",
            "text/plain": [
              "<IPython.core.display.Image object>"
            ]
          },
          "metadata": {},
          "execution_count": 12
        }
      ]
    },
    {
      "cell_type": "code",
      "source": [
        "# Запустим обучение\n",
        "model.fit([encoderForInput , decoderForInput], decoderForOutput, batch_size=128, epochs=100) "
      ],
      "metadata": {
        "id": "Wmg1FQbKarvL",
        "colab": {
          "base_uri": "https://localhost:8080/"
        },
        "outputId": "ac9e8e19-a8eb-48d8-f8ca-cd5c85526ab9"
      },
      "execution_count": null,
      "outputs": [
        {
          "output_type": "stream",
          "name": "stdout",
          "text": [
            "Epoch 1/100\n",
            "7/7 [==============================] - 13s 35ms/step - loss: 2.1828\n",
            "Epoch 2/100\n",
            "7/7 [==============================] - 0s 36ms/step - loss: 1.5696\n",
            "Epoch 3/100\n",
            "7/7 [==============================] - 0s 38ms/step - loss: 1.4671\n",
            "Epoch 4/100\n",
            "7/7 [==============================] - 0s 36ms/step - loss: 1.4242\n",
            "Epoch 5/100\n",
            "7/7 [==============================] - 0s 35ms/step - loss: 1.3963\n",
            "Epoch 6/100\n",
            "7/7 [==============================] - 0s 36ms/step - loss: 1.3654\n",
            "Epoch 7/100\n",
            "7/7 [==============================] - 0s 35ms/step - loss: 1.3372\n",
            "Epoch 8/100\n",
            "7/7 [==============================] - 0s 35ms/step - loss: 1.3090\n",
            "Epoch 9/100\n",
            "7/7 [==============================] - 0s 36ms/step - loss: 1.2847\n",
            "Epoch 10/100\n",
            "7/7 [==============================] - 0s 37ms/step - loss: 1.2595\n",
            "Epoch 11/100\n",
            "7/7 [==============================] - 0s 37ms/step - loss: 1.2378\n",
            "Epoch 12/100\n",
            "7/7 [==============================] - 0s 36ms/step - loss: 1.2171\n",
            "Epoch 13/100\n",
            "7/7 [==============================] - 0s 40ms/step - loss: 1.1962\n",
            "Epoch 14/100\n",
            "7/7 [==============================] - 0s 36ms/step - loss: 1.1786\n",
            "Epoch 15/100\n",
            "7/7 [==============================] - 0s 36ms/step - loss: 1.1599\n",
            "Epoch 16/100\n",
            "7/7 [==============================] - 0s 36ms/step - loss: 1.1428\n",
            "Epoch 17/100\n",
            "7/7 [==============================] - 0s 37ms/step - loss: 1.1258\n",
            "Epoch 18/100\n",
            "7/7 [==============================] - 0s 35ms/step - loss: 1.1108\n",
            "Epoch 19/100\n",
            "7/7 [==============================] - 0s 36ms/step - loss: 1.0948\n",
            "Epoch 20/100\n",
            "7/7 [==============================] - 0s 35ms/step - loss: 1.0789\n",
            "Epoch 21/100\n",
            "7/7 [==============================] - 0s 36ms/step - loss: 1.0656\n",
            "Epoch 22/100\n",
            "7/7 [==============================] - 0s 35ms/step - loss: 1.0489\n",
            "Epoch 23/100\n",
            "7/7 [==============================] - 0s 36ms/step - loss: 1.0353\n",
            "Epoch 24/100\n",
            "7/7 [==============================] - 0s 36ms/step - loss: 1.0190\n",
            "Epoch 25/100\n",
            "7/7 [==============================] - 0s 37ms/step - loss: 1.0048\n",
            "Epoch 26/100\n",
            "7/7 [==============================] - 0s 35ms/step - loss: 0.9901\n",
            "Epoch 27/100\n",
            "7/7 [==============================] - 0s 36ms/step - loss: 0.9745\n",
            "Epoch 28/100\n",
            "7/7 [==============================] - 0s 36ms/step - loss: 0.9589\n",
            "Epoch 29/100\n",
            "7/7 [==============================] - 0s 36ms/step - loss: 0.9448\n",
            "Epoch 30/100\n",
            "7/7 [==============================] - 0s 36ms/step - loss: 0.9285\n",
            "Epoch 31/100\n",
            "7/7 [==============================] - 0s 35ms/step - loss: 0.9161\n",
            "Epoch 32/100\n",
            "7/7 [==============================] - 0s 36ms/step - loss: 0.8999\n",
            "Epoch 33/100\n",
            "7/7 [==============================] - 0s 40ms/step - loss: 0.8874\n",
            "Epoch 34/100\n",
            "7/7 [==============================] - 0s 38ms/step - loss: 0.8727\n",
            "Epoch 35/100\n",
            "7/7 [==============================] - 0s 37ms/step - loss: 0.8588\n",
            "Epoch 36/100\n",
            "7/7 [==============================] - 0s 38ms/step - loss: 0.8455\n",
            "Epoch 37/100\n",
            "7/7 [==============================] - 0s 38ms/step - loss: 0.8306\n",
            "Epoch 38/100\n",
            "7/7 [==============================] - 0s 39ms/step - loss: 0.8166\n",
            "Epoch 39/100\n",
            "7/7 [==============================] - 0s 37ms/step - loss: 0.8040\n",
            "Epoch 40/100\n",
            "7/7 [==============================] - 0s 35ms/step - loss: 0.7916\n",
            "Epoch 41/100\n",
            "7/7 [==============================] - 0s 37ms/step - loss: 0.7774\n",
            "Epoch 42/100\n",
            "7/7 [==============================] - 0s 38ms/step - loss: 0.7655\n",
            "Epoch 43/100\n",
            "7/7 [==============================] - 0s 36ms/step - loss: 0.7525\n",
            "Epoch 44/100\n",
            "7/7 [==============================] - 0s 37ms/step - loss: 0.7410\n",
            "Epoch 45/100\n",
            "7/7 [==============================] - 0s 37ms/step - loss: 0.7287\n",
            "Epoch 46/100\n",
            "7/7 [==============================] - 0s 37ms/step - loss: 0.7155\n",
            "Epoch 47/100\n",
            "7/7 [==============================] - 0s 36ms/step - loss: 0.7050\n",
            "Epoch 48/100\n",
            "7/7 [==============================] - 0s 38ms/step - loss: 0.6932\n",
            "Epoch 49/100\n",
            "7/7 [==============================] - 0s 35ms/step - loss: 0.6818\n",
            "Epoch 50/100\n",
            "7/7 [==============================] - 0s 39ms/step - loss: 0.6682\n",
            "Epoch 51/100\n",
            "7/7 [==============================] - 0s 35ms/step - loss: 0.6583\n",
            "Epoch 52/100\n",
            "7/7 [==============================] - 0s 37ms/step - loss: 0.6471\n",
            "Epoch 53/100\n",
            "7/7 [==============================] - 0s 37ms/step - loss: 0.6337\n",
            "Epoch 54/100\n",
            "7/7 [==============================] - 0s 36ms/step - loss: 0.6231\n",
            "Epoch 55/100\n",
            "7/7 [==============================] - 0s 38ms/step - loss: 0.6152\n",
            "Epoch 56/100\n",
            "7/7 [==============================] - 0s 36ms/step - loss: 0.6003\n",
            "Epoch 57/100\n",
            "7/7 [==============================] - 0s 37ms/step - loss: 0.5908\n",
            "Epoch 58/100\n",
            "7/7 [==============================] - 0s 37ms/step - loss: 0.5791\n",
            "Epoch 59/100\n",
            "7/7 [==============================] - 0s 37ms/step - loss: 0.5696\n",
            "Epoch 60/100\n",
            "7/7 [==============================] - 0s 38ms/step - loss: 0.5570\n",
            "Epoch 61/100\n",
            "7/7 [==============================] - 0s 38ms/step - loss: 0.5466\n",
            "Epoch 62/100\n",
            "7/7 [==============================] - 0s 38ms/step - loss: 0.5369\n",
            "Epoch 63/100\n",
            "7/7 [==============================] - 0s 37ms/step - loss: 0.5270\n",
            "Epoch 64/100\n",
            "7/7 [==============================] - 0s 37ms/step - loss: 0.5145\n",
            "Epoch 65/100\n",
            "7/7 [==============================] - 0s 38ms/step - loss: 0.5049\n",
            "Epoch 66/100\n",
            "7/7 [==============================] - 0s 37ms/step - loss: 0.4929\n",
            "Epoch 67/100\n",
            "7/7 [==============================] - 0s 36ms/step - loss: 0.4847\n",
            "Epoch 68/100\n",
            "7/7 [==============================] - 0s 37ms/step - loss: 0.4739\n",
            "Epoch 69/100\n",
            "7/7 [==============================] - 0s 37ms/step - loss: 0.4621\n",
            "Epoch 70/100\n",
            "7/7 [==============================] - 0s 37ms/step - loss: 0.4526\n",
            "Epoch 71/100\n",
            "7/7 [==============================] - 0s 36ms/step - loss: 0.4421\n",
            "Epoch 72/100\n",
            "7/7 [==============================] - 0s 36ms/step - loss: 0.4342\n",
            "Epoch 73/100\n",
            "7/7 [==============================] - 0s 37ms/step - loss: 0.4229\n",
            "Epoch 74/100\n",
            "7/7 [==============================] - 0s 37ms/step - loss: 0.4149\n",
            "Epoch 75/100\n",
            "7/7 [==============================] - 0s 36ms/step - loss: 0.4036\n",
            "Epoch 76/100\n",
            "7/7 [==============================] - 0s 37ms/step - loss: 0.3937\n",
            "Epoch 77/100\n",
            "7/7 [==============================] - 0s 37ms/step - loss: 0.3859\n",
            "Epoch 78/100\n",
            "7/7 [==============================] - 0s 36ms/step - loss: 0.3758\n",
            "Epoch 79/100\n",
            "7/7 [==============================] - 0s 37ms/step - loss: 0.3666\n",
            "Epoch 80/100\n",
            "7/7 [==============================] - 0s 38ms/step - loss: 0.3568\n",
            "Epoch 81/100\n",
            "7/7 [==============================] - 0s 38ms/step - loss: 0.3476\n",
            "Epoch 82/100\n",
            "7/7 [==============================] - 0s 37ms/step - loss: 0.3404\n",
            "Epoch 83/100\n",
            "7/7 [==============================] - 0s 36ms/step - loss: 0.3309\n",
            "Epoch 84/100\n",
            "7/7 [==============================] - 0s 37ms/step - loss: 0.3203\n",
            "Epoch 85/100\n",
            "7/7 [==============================] - 0s 36ms/step - loss: 0.3150\n",
            "Epoch 86/100\n",
            "7/7 [==============================] - 0s 37ms/step - loss: 0.3060\n",
            "Epoch 87/100\n",
            "7/7 [==============================] - 0s 38ms/step - loss: 0.2952\n",
            "Epoch 88/100\n",
            "7/7 [==============================] - 0s 38ms/step - loss: 0.2889\n",
            "Epoch 89/100\n",
            "7/7 [==============================] - 0s 37ms/step - loss: 0.2820\n",
            "Epoch 90/100\n",
            "7/7 [==============================] - 0s 38ms/step - loss: 0.2715\n",
            "Epoch 91/100\n",
            "7/7 [==============================] - 0s 39ms/step - loss: 0.2640\n",
            "Epoch 92/100\n",
            "7/7 [==============================] - 0s 37ms/step - loss: 0.2576\n",
            "Epoch 93/100\n",
            "7/7 [==============================] - 0s 36ms/step - loss: 0.2495\n",
            "Epoch 94/100\n",
            "7/7 [==============================] - 0s 37ms/step - loss: 0.2423\n",
            "Epoch 95/100\n",
            "7/7 [==============================] - 0s 36ms/step - loss: 0.2360\n",
            "Epoch 96/100\n",
            "7/7 [==============================] - 0s 37ms/step - loss: 0.2283\n",
            "Epoch 97/100\n",
            "7/7 [==============================] - 0s 37ms/step - loss: 0.2202\n",
            "Epoch 98/100\n",
            "7/7 [==============================] - 0s 37ms/step - loss: 0.2137\n",
            "Epoch 99/100\n",
            "7/7 [==============================] - 0s 37ms/step - loss: 0.2072\n",
            "Epoch 100/100\n",
            "7/7 [==============================] - 0s 37ms/step - loss: 0.2021\n"
          ]
        },
        {
          "output_type": "execute_result",
          "data": {
            "text/plain": [
              "<keras.callbacks.History at 0x7f71697262d0>"
            ]
          },
          "metadata": {},
          "execution_count": 13
        }
      ]
    },
    {
      "cell_type": "code",
      "source": [
        "# Создаем рабочие модели для перевода\n",
        "\n",
        "def makeInferenceModels():\n",
        "\n",
        "  '''\n",
        "  Функция для создания единой полноценной модели из энкодера и декодера\n",
        "  Собираем по отдельности энкодер и декодер для использования метода .predict() для каждого из них в конце работы для проверки результатов\n",
        "\n",
        "  Args:\n",
        "    None\n",
        "    \n",
        "  Returns:\n",
        "    Вовзращает рабочие модели энкодера и декодера для дальнейшей работы нейросети\n",
        "  '''\n",
        "\n",
        "  # Создадим модель кодера, на входе далее будут закодированные вопросы, на выходе состояния state_h, state_c\n",
        "  encoderModel = Model(encoderInputs, encoderStates) \n",
        "\n",
        "  # Создадим модель декодера\n",
        "  decoderStateInput_h = Input(shape=(200 ,)) # Добавим входной слой для state_h\n",
        "  decoderStateInput_c = Input(shape=(200 ,)) # Добавим входной слой для state_c\n",
        "\n",
        "  decoderStatesInputs = [decoderStateInput_h, decoderStateInput_c] # Соберем оба inputs вместе и запишем в decoderStatesInputs\n",
        "\n",
        "  decoderOutputs, state_h, state_c = decoderLSTM(decoderEmbedding, initial_state=decoderStatesInputs) # Берём ответы, прошедшие через эмбединг, вместе с состояниями и подаём LSTM cлою\n",
        "  decoderStates = [state_h, state_c]            # LSTM даст нам новые состояния\n",
        "  decoderOutputs = decoderDense(decoderOutputs) # И ответы, которые мы пропустим через полносвязный слой с софтмаксом\n",
        "\n",
        "  # Определим модель декодера, на входе далее будут раскодированные ответы (decoderForInputs) и состояния\n",
        "  # на выходе предсказываемый ответ и новые состояния\n",
        "  decoderModel = Model([decoderInputs] + decoderStatesInputs, [decoderOutputs] + decoderStates)\n",
        "\n",
        "  # Вернем рабочие модели энкодера и декодера  \n",
        "  return encoderModel , decoderModel"
      ],
      "metadata": {
        "id": "XuqLz9ntbb1F"
      },
      "execution_count": null,
      "outputs": []
    },
    {
      "cell_type": "code",
      "source": [
        "def strToTokens(sentence: str):     # Функция принимает входную фразу\n",
        "\n",
        "  '''\n",
        "  Функция для очистки фразы и преобразования в индексы по словарю в токенайзере\n",
        "\n",
        "  Args:\n",
        "    sentence - фраза, формата str\n",
        "\n",
        "  Returns:\n",
        "    None, если незнакомые символы фразы\n",
        "    Входная фраза в виде последовательности символов, если смогли определить индексы\n",
        "  '''\n",
        "  \n",
        "  tmp_sent = my_replacer(sentence)                                              # Почистим фразу\n",
        "  words = tmp_sent.lower().split()                                              # Приводит предложение к нижнему регистру и разбирает на слова\n",
        "  tokensList = list()                                                           # Здесь будет последовательность токенов/индексов\n",
        "\n",
        "  # Для каждого слова в предложении\n",
        "  for word in words:\n",
        "    try:\n",
        "        tokensList.append(tokenizer.word_index[word])                           # Определяем токенайзером индекс и добавляем в список\n",
        "    except:\n",
        "        pass                                                                    # Слова нет - просто игнорируем его\n",
        "\n",
        "  # Вернёт входную фразу в виде последовательности индексов\n",
        "  if tokensList:\n",
        "    return pad_sequences([tokensList], maxlen=maxLenQuestions , padding='post')\n",
        "\n",
        "  return None                                                                   # Фраза из незнакомх слов - вернем None "
      ],
      "metadata": {
        "id": "eIaqlBe2bgob"
      },
      "execution_count": null,
      "outputs": []
    },
    {
      "cell_type": "code",
      "source": [
        "# Запускаем функцию для построения модели кодера и декодера\n",
        "\n",
        "encModel , decModel = makeInferenceModels() "
      ],
      "metadata": {
        "id": "o2qXkXagbmpK"
      },
      "execution_count": null,
      "outputs": []
    },
    {
      "cell_type": "code",
      "source": [
        "# Цикл по количеству входных фраз - их 1\n",
        "for _ in range(1): # задаем количество вопросов, и на каждой итерации в этом диапазоне:\n",
        "\n",
        "  # Получаем значения состояний, которые определит кодер в соответствии с заданным вопросом\n",
        "  decodedTranslation0 = input('Задай вопрос - получишь ответ от бота: ')\n",
        "  qua  = strToTokens(decodedTranslation0)\n",
        "\n",
        "  if qua is None:                                      # В запросе сплошные незнакомые слова...\n",
        "    print (\"а вот спросите меня о чем-нить полезном: \")  # Выдадим дежурную фразу\n",
        "    continue                                           # Пойдем за следущей фразой\n",
        "\n",
        "  statesValues = encModel.predict(qua)                 # Прогоним фразу через энкодер\n",
        "  \n",
        "  emptyTargetSeq = np.zeros((1, 1))                    # Создадим пустой массив\n",
        "  emptyTargetSeq[0, 0] = tokenizer.word_index['start'] # Положим в пустую последовательность начальное слово 'start' в виде индекса\n",
        "  stopCondition = False                                # Зададим условие, при срабатывании которого, прекратится генерация очередного слова\n",
        "  decodedTranslation = ''                              #Здесь будет собираться генерируемый ответ\n",
        "\n",
        "  while not stopCondition:                             # пока не сработало стоп-условие\n",
        "\n",
        "    # В модель декодера подадим пустую последовательность со словом 'start' и состояния предсказанные кодером по заданному вопросу.\n",
        "    # декодер заменит слово 'start' предсказанным сгенерированным словом и обновит состояния\n",
        "    decOutputs , h , c = decModel.predict([emptyTargetSeq] + statesValues)\n",
        "    \n",
        "    sampledWordIndex = np.argmax( decOutputs[0, 0, :]) # Получим индекс предсказанного слова.\n",
        "    sampledWord = None                                 # Создаем переменную, в которую положим слово, преобразованное на естественный язык\n",
        "\n",
        "    # Цикл по всем индексам токенайзера\n",
        "    for word , index in tokenizer.word_index.items():\n",
        "      if sampledWordIndex == index:              # Если индекс выбранного слова соответствует какому-то индексу из словаря\n",
        "        decodedTranslation += ' {}'.format(word) # Слово, идущее под этим индексом в словаре, добавляется в итоговый ответ \n",
        "        sampledWord = word                       # Выбранное слово фиксируем в переменную sampledWord\n",
        "    \n",
        "    # Если выбранным словом оказывается 'end' либо если сгенерированный ответ превышает заданную максимальную длину ответа\n",
        "    if sampledWord == 'end' or len(decodedTranslation.split()) > maxLenAnswers:\n",
        "      stopCondition = True # Срабатывает стоп-условие и прекращаем генерацию\n",
        "\n",
        "    emptyTargetSeq = np.zeros((1, 1))       # Создаем пустой массив\n",
        "    emptyTargetSeq[0, 0] = sampledWordIndex # Заносим туда индекс выбранного слова\n",
        "    statesValues = [h, c]                   # И состояния, обновленные декодером \n",
        "                                            # И продолжаем цикл с обновленными параметрами\n",
        "  \n",
        "  print(\"И бот ответил: \", decodedTranslation) # Выводим ответ сгенерированный декодером"
      ],
      "metadata": {
        "colab": {
          "base_uri": "https://localhost:8080/"
        },
        "id": "4aIYx65xbsl7",
        "outputId": "b43bffd3-4166-4ea0-b423-95fdab297b65"
      },
      "execution_count": null,
      "outputs": [
        {
          "output_type": "stream",
          "name": "stdout",
          "text": [
            "Задай вопрос - получишь ответ от бота: как\n",
            "И бот ответил:   ну, вроде жопа . end\n"
          ]
        }
      ]
    }
  ]
}
