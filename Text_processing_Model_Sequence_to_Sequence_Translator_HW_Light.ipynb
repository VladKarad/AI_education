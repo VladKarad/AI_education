{
  "nbformat": 4,
  "nbformat_minor": 0,
  "metadata": {
    "colab": {
      "provenance": [],
      "include_colab_link": true
    },
    "kernelspec": {
      "name": "python3",
      "display_name": "Python 3"
    },
    "language_info": {
      "name": "python"
    },
    "accelerator": "GPU"
  },
  "cells": [
    {
      "cell_type": "markdown",
      "metadata": {
        "id": "view-in-github",
        "colab_type": "text"
      },
      "source": [
        "<a href=\"https://colab.research.google.com/github/VladKarad/AI_education/blob/main/Text_processing_Model_Sequence_to_Sequence_Translator_HW_Light.ipynb\" target=\"_parent\"><img src=\"https://colab.research.google.com/assets/colab-badge.svg\" alt=\"Open In Colab\"/></a>"
      ]
    },
    {
      "cell_type": "markdown",
      "metadata": {
        "id": "q3iWok-bk8ZO"
      },
      "source": [
        "# Добро пожаловать на задание уровня Lite.\n",
        "В данной задаче требуется создать 2 модели для перевода.\n",
        "1. С английского на русский.\n",
        "2. С русского на английский.\n",
        "\n",
        "По итогу требуется подать выход первой модели во вторую модель и сравнить начальный текст и дважды переведенный.\n",
        "Добиться максимальной точности."
      ]
    },
    {
      "cell_type": "code",
      "metadata": {
        "id": "9JwSbyp6ldqI"
      },
      "source": [
        "# Подключим модуль для загрузки файлов в colab\n",
        "from google.colab import files\n",
        "\n",
        "# Подключим модуль numpy для работы с массивами\n",
        "import numpy as np\n",
        "\n",
        "# Подгрузим модели кераса\n",
        "from tensorflow.keras.models import Model, load_model\n",
        "\n",
        "# Подключим нужные слои\n",
        "from tensorflow.keras.layers import Dense, Embedding, LSTM, Input\n",
        "\n",
        "# Поключим оптимайзеры\n",
        "from tensorflow.keras.optimizers import RMSprop, Adadelta\n",
        "\n",
        "# Подключим метод ограничения последовательности заданной длиной\n",
        "from tensorflow.keras.preprocessing.sequence import pad_sequences\n",
        "\n",
        "# Подключим токенайзер\n",
        "from tensorflow.keras.preprocessing.text import Tokenizer\n",
        "\n",
        "# Подключим модуль для one hot кодировки\n",
        "from tensorflow.keras import utils\n",
        "\n",
        "# Подключим визуализацию графа модели\n",
        "from tensorflow.keras.utils import plot_model\n",
        "\n",
        "# Подключим модуль для работы с yaml - файлами\n",
        "import yaml"
      ],
      "execution_count": null,
      "outputs": []
    },
    {
      "cell_type": "code",
      "metadata": {
        "id": "5BsiTmZxlw3r",
        "colab": {
          "base_uri": "https://localhost:8080/"
        },
        "outputId": "70c68757-adb4-4e70-cb06-2e3637a54f05"
      },
      "source": [
        "# Загрузим обучающие тексты\n",
        "!wget  http://www.manythings.org/anki/rus-eng.zip"
      ],
      "execution_count": null,
      "outputs": [
        {
          "output_type": "stream",
          "name": "stdout",
          "text": [
            "--2022-01-10 17:50:48--  http://www.manythings.org/anki/rus-eng.zip\n",
            "Resolving www.manythings.org (www.manythings.org)... 172.67.186.54, 104.21.92.44, 2606:4700:3033::ac43:ba36, ...\n",
            "Connecting to www.manythings.org (www.manythings.org)|172.67.186.54|:80... connected.\n",
            "HTTP request sent, awaiting response... 200 OK\n",
            "Length: 14683939 (14M) [application/zip]\n",
            "Saving to: ‘rus-eng.zip.1’\n",
            "\n",
            "rus-eng.zip.1       100%[===================>]  14.00M  51.5MB/s    in 0.3s    \n",
            "\n",
            "2022-01-10 17:50:49 (51.5 MB/s) - ‘rus-eng.zip.1’ saved [14683939/14683939]\n",
            "\n"
          ]
        }
      ]
    },
    {
      "cell_type": "code",
      "metadata": {
        "id": "0FFRCgRYtpce",
        "colab": {
          "base_uri": "https://localhost:8080/"
        },
        "outputId": "144e48be-4cf6-4589-bd8b-cfaa04569398"
      },
      "source": [
        "# Распакуем архив\n",
        "!unzip -o rus-eng.zip "
      ],
      "execution_count": null,
      "outputs": [
        {
          "output_type": "stream",
          "name": "stdout",
          "text": [
            "Archive:  rus-eng.zip\n",
            "  inflating: rus.txt                 \n",
            "  inflating: _about.txt              \n"
          ]
        }
      ]
    },
    {
      "cell_type": "code",
      "source": [
        "conversations = []                                # Заготовим список для пар фраз\n",
        "\n",
        "with open(\"rus.txt\", 'r', encoding='utf-8') as f: # Открываем файл словаря в режиме чтения\n",
        "    lines = f.read().split('\\n')                  # Читаем весь файл, режем на строки\n",
        "\n",
        "# Цикл по строкам\n",
        "for i,line in enumerate(lines):\n",
        "    \n",
        "    if i>50000:                                         # Нам нужно только 50000 первых строк\n",
        "      break                                             # Заканчиваем цикл\n",
        "    try:\n",
        "        input_text, target_text,_ = line.split(\"\\t\")    # Берем очередную строку, режем по символу табуляции\n",
        "        conversations.append([input_text, target_text]) # Заполняем список пар фраз\n",
        "    except:\n",
        "        continue                                        # если не получается - идем за следущей строкой"
      ],
      "metadata": {
        "id": "mRFB0lA6vRPY"
      },
      "execution_count": null,
      "outputs": []
    },
    {
      "cell_type": "code",
      "source": [
        "def my_replacer(s):  \n",
        "\n",
        "    ''' Функция для удаления пробелов перед знаками препинания\n",
        "\n",
        "        Args: строка или список строк\n",
        "\n",
        "        Returns: строка или список строк\n",
        "    '''\n",
        "\n",
        "    if isinstance(s,str): # Если получили строку\n",
        "\n",
        "        # Убираем перед знаками препинания пробел и возвращаем\n",
        "        return s.replace(' .','.').replace(' ,',',').replace(' !','!').replace(' ?','?')\n",
        "\n",
        "    if isinstance(s,list): # Если получили список\n",
        "        ou=[]              # Заготовим пустой список\n",
        "\n",
        "        for l in s:        # Цикл по строкам из списка\n",
        "            ou.append(l.replace(' .','.').replace(' ,',',').replace(' !','!').replace(' ?','?')) # Убираем перед знаками препинания пробел и возвращаем\n",
        "\n",
        "        # Вернем список строк\n",
        "        return ou    "
      ],
      "metadata": {
        "id": "a-tUCnAnvbao"
      },
      "execution_count": null,
      "outputs": []
    },
    {
      "cell_type": "code",
      "source": [
        "# Собираем вопросы и ответы в списки\n",
        "\n",
        "questions = [] # Переменная для списка входных фраз\n",
        "answers = []   # Переменная для списка ответных фраз\n",
        "questions1 = [] # Переменная для списка входных фраз\n",
        "answers1 = []   # Переменная для списка ответных фраз\n",
        "\n",
        "# Цикл по всем парам фраз \n",
        "for con in conversations:                 \n",
        "  \n",
        "    if len(con) > 1 :                       # Если ответная фраза содержит более одно двух предложений\n",
        "        questions.append(my_replacer(con[0])) # То первую в списке фразу отправляем в список входных фраз\n",
        "        answers1.append(my_replacer(con[0])) # То первую в списке фразу отправляем в список входных фраз\n",
        "        replies = my_replacer(con[1:])        # А ответную составляем из последующих строк\n",
        "        ans = ' '.join(replies)               # Здесь соберем ответ\n",
        "        answers.append(ans)                   # Добавим в список ответов\n",
        "        questions1.append(ans)                   # Добавим в список ответов\n",
        "    else:\n",
        "        continue                              # Иначе идем на новой парой фраз\n",
        "\n",
        "# Добавим в каждую ответную фразу теги  <START> и <END>\n",
        "answers = ['<START> ' + s + ' <END>' for s in answers]\n",
        "answers1 = ['<START> ' + s + ' <END>' for s in answers1]\n",
        "\n",
        "# Выведем обновленные данные на экран\n",
        "print('Вопрос : {}'.format(questions[111])) # Пример входной фразы\n",
        "print('Ответ : {}'.format(answers[111]))    # Пример ответной фразы\n",
        "print('Вопрос1 : {}'.format(questions1[111])) # Пример входной фразы\n",
        "print('Ответ1 : {}'.format(answers1[111]))    # Пример ответной фразы"
      ],
      "metadata": {
        "colab": {
          "base_uri": "https://localhost:8080/"
        },
        "id": "pubkKvjivfhh",
        "outputId": "64703155-e433-4bc7-d01f-53c8ccf12c86"
      },
      "execution_count": null,
      "outputs": [
        {
          "output_type": "stream",
          "name": "stdout",
          "text": [
            "Вопрос : Go now.\n",
            "Ответ : <START> Иди сейчас. <END>\n",
            "Вопрос1 : Иди сейчас.\n",
            "Ответ1 : <START> Go now. <END>\n"
          ]
        }
      ]
    },
    {
      "cell_type": "code",
      "source": [
        "# Создадим токенайзер \n",
        "tokenizer = Tokenizer(filters='\"#$%&()*+-/;<=>@[\\\\]^_`{|}~\\t\\n',split=' ')  \n",
        "\n",
        "# Загружаем в токенизатор список фраз для сборки словаря частотности\n",
        "tokenizer.fit_on_texts(questions + answers)         \n",
        "\n",
        "# Список с cодержимым словаря\n",
        "vocabularyItems = list(tokenizer.word_index.items())    \n",
        "\n",
        "# Размер словаря\n",
        "vocabularySize = len(vocabularyItems)+1        \n",
        "\n",
        "# Выведем фрагмент и размер словаря\n",
        "print( 'Фрагмент словаря : {}'.format(vocabularyItems[:50]))       \n",
        "print( 'Размер словаря : {}'.format(vocabularySize))             "
      ],
      "metadata": {
        "colab": {
          "base_uri": "https://localhost:8080/"
        },
        "id": "phrFeVw0vj2T",
        "outputId": "d8ad3d7c-fe77-4df2-a4e2-7e5302b0b205"
      },
      "execution_count": null,
      "outputs": [
        {
          "output_type": "stream",
          "name": "stdout",
          "text": [
            "Фрагмент словаря : [('start', 1), ('end', 2), ('я', 3), ('i', 4), ('tom', 5), ('том', 6), ('не', 7), ('это', 8), ('you', 9), ('is', 10), ('a', 11), (\"i'm\", 12), ('ты', 13), ('мы', 14), ('мне', 15), ('the', 16), ('it', 17), ('was', 18), ('we', 19), ('to', 20), ('вы', 21), ('у', 22), ('do', 23), ('it.', 24), ('в', 25), ('он', 26), ('меня', 27), ('tom.', 28), ('my', 29), (\"it's\", 30), ('you.', 31), (\"don't\", 32), ('are', 33), ('can', 34), ('me.', 35), ('did', 36), (\"you're\", 37), ('your', 38), ('he', 39), ('они', 40), ('на', 41), ('был', 42), ('this', 43), ('have', 44), ('что', 45), ('not', 46), ('go', 47), (\"i'll\", 48), ('that', 49), ('be', 50)]\n",
            "Размер словаря : 26464\n"
          ]
        }
      ]
    },
    {
      "cell_type": "code",
      "source": [
        "# Создадим токенайзер \n",
        "tokenizer = Tokenizer(filters='\"#$%&()*+-/;<=>@[\\\\]^_`{|}~\\t\\n',split=' ')  \n",
        "\n",
        "# Загружаем в токенизатор список фраз для сборки словаря частотности\n",
        "tokenizer.fit_on_texts(questions1 + answers1)         \n",
        "\n",
        "# Список с cодержимым словаря\n",
        "vocabularyItems1 = list(tokenizer.word_index.items())    \n",
        "\n",
        "# Размер словаря\n",
        "vocabularySize1 = len(vocabularyItems1)+1        \n",
        "\n",
        "# Выведем фрагмент и размер словаря\n",
        "print( 'Фрагмент словаря : {}'.format(vocabularyItems1[:50]))       \n",
        "print( 'Размер словаря : {}'.format(vocabularySize1))             "
      ],
      "metadata": {
        "colab": {
          "base_uri": "https://localhost:8080/"
        },
        "id": "3NSJotqBABED",
        "outputId": "2eaf2eae-f16a-4fd4-eeda-1dedd2d9708c"
      },
      "execution_count": null,
      "outputs": [
        {
          "output_type": "stream",
          "name": "stdout",
          "text": [
            "Фрагмент словаря : [('start', 1), ('end', 2), ('я', 3), ('i', 4), ('tom', 5), ('том', 6), ('не', 7), ('это', 8), ('you', 9), ('is', 10), ('a', 11), (\"i'm\", 12), ('ты', 13), ('мы', 14), ('мне', 15), ('the', 16), ('it', 17), ('was', 18), ('we', 19), ('to', 20), ('вы', 21), ('у', 22), ('do', 23), ('it.', 24), ('в', 25), ('он', 26), ('меня', 27), ('tom.', 28), ('my', 29), (\"it's\", 30), ('you.', 31), (\"don't\", 32), ('are', 33), ('can', 34), ('me.', 35), ('did', 36), (\"you're\", 37), ('your', 38), ('he', 39), ('они', 40), ('на', 41), ('был', 42), ('this', 43), ('что', 44), ('have', 45), ('not', 46), ('go', 47), (\"i'll\", 48), ('that', 49), ('be', 50)]\n",
            "Размер словаря : 26464\n"
          ]
        }
      ]
    },
    {
      "cell_type": "code",
      "source": [
        "# Разбиваем текст входных фраз на последовательности индексов\n",
        "tokenizedQuestions = tokenizer.texts_to_sequences(questions)\n",
        "\n",
        "# Уточняем длину самой длинной фразы\n",
        "maxLenQuestions = max([ len(x) for x in tokenizedQuestions])\n",
        "\n",
        "# Делаем последовательности одной длины, заполняя нулями более короткие фразы\n",
        "paddedQuestions = pad_sequences(tokenizedQuestions, maxlen=maxLenQuestions, padding='post')\n",
        "\n",
        "# Предподготавливаем данные для входа в сеть, переводим в numpy массив\n",
        "encoderForInput = np.array(paddedQuestions)        \n",
        "\n",
        "# Выведем на экран\n",
        "print('Пример входной фразы                         : {}'.format(questions[100]))         \n",
        "print('Пример кодированной входной фразу            : {}'.format(encoderForInput[100]))  \n",
        "print('Размеры закодированного массива входных фраз : {}'.format(encoderForInput.shape))  \n",
        "print('Установленная длина входных фраз             : {}'.format(maxLenQuestions))        "
      ],
      "metadata": {
        "colab": {
          "base_uri": "https://localhost:8080/"
        },
        "id": "s69lo1ClvnH4",
        "outputId": "5c91fad3-8463-4992-c63f-fc4ba29cdaac"
      },
      "execution_count": null,
      "outputs": [
        {
          "output_type": "stream",
          "name": "stdout",
          "text": [
            "Пример входной фразы                         : Freeze!\n",
            "Пример кодированной входной фразу            : [7350    0    0    0    0    0]\n",
            "Размеры закодированного массива входных фраз : (50001, 6)\n",
            "Установленная длина входных фраз             : 6\n"
          ]
        }
      ]
    },
    {
      "cell_type": "code",
      "source": [
        "# Разбиваем текст входных фраз на последовательности индексов\n",
        "tokenizedQuestions1 = tokenizer.texts_to_sequences(questions1)\n",
        "\n",
        "# Уточняем длину самой длинной фразы\n",
        "maxLenQuestions1 = max([ len(x) for x in tokenizedQuestions1])\n",
        "\n",
        "# Делаем последовательности одной длины, заполняя нулями более короткие фразы\n",
        "paddedQuestions1 = pad_sequences(tokenizedQuestions1, maxlen=maxLenQuestions1, padding='post')\n",
        "\n",
        "# Предподготавливаем данные для входа в сеть, переводим в numpy массив\n",
        "encoderForInput1 = np.array(paddedQuestions1)        \n",
        "\n",
        "# Выведем на экран\n",
        "print('Пример входной фразы                         : {}'.format(questions1[100]))         \n",
        "print('Пример кодированной входной фразу            : {}'.format(encoderForInput1[100]))  \n",
        "print('Размеры закодированного массива входных фраз : {}'.format(encoderForInput1.shape))  \n",
        "print('Установленная длина входных фраз             : {}'.format(maxLenQuestions1))        "
      ],
      "metadata": {
        "colab": {
          "base_uri": "https://localhost:8080/"
        },
        "id": "BMLxx3R5zyyz",
        "outputId": "830454e9-cbe1-4c20-f5dc-5933d2fa2dd1"
      },
      "execution_count": null,
      "outputs": [
        {
          "output_type": "stream",
          "name": "stdout",
          "text": [
            "Пример входной фразы                         : Ни с места!\n",
            "Пример кодированной входной фразу            : [ 1043    59 10262     0     0     0     0     0     0     0]\n",
            "Размеры закодированного массива входных фраз : (50001, 10)\n",
            "Установленная длина входных фраз             : 10\n"
          ]
        }
      ]
    },
    {
      "cell_type": "code",
      "source": [
        "# Разбиваем текст ответных фраз на последовательности индексов\n",
        "tokenizedAnswers = tokenizer.texts_to_sequences(answers) \n",
        "\n",
        "# Уточняем длину самого длинного ответа\n",
        "maxLenAnswers = max([len(x) for x in tokenizedAnswers])\n",
        "\n",
        "# Делаем последовательности одной длины, заполняя нулями более ответы\n",
        "paddedAnswers = pad_sequences(tokenizedAnswers, maxlen=maxLenAnswers, padding='post')\n",
        "\n",
        "# Предподготавливаем данные для входа в сеть, переводим в numpy массив\n",
        "decoderForInput = np.array(paddedAnswers)               \n",
        "\n",
        "# Выведем на экран\n",
        "print('Пример оригинального ответа на вход: {}'.format(answers[100]))                         \n",
        "print('Пример кодированного ответа на вход : {}'.format(decoderForInput[100][:30]))           \n",
        "print('Размеры кодированного массива ответов на вход : {}'.format(decoderForInput.shape))     \n",
        "print('Установленная длина ответов на вход : {}'.format(maxLenAnswers))                       "
      ],
      "metadata": {
        "colab": {
          "base_uri": "https://localhost:8080/"
        },
        "id": "z-_2Q5g8vqdI",
        "outputId": "68780a4e-b531-4e9b-d9b0-97b66d7a1b34"
      },
      "execution_count": null,
      "outputs": [
        {
          "output_type": "stream",
          "name": "stdout",
          "text": [
            "Пример оригинального ответа на вход: <START> Ни с места! <END>\n",
            "Пример кодированного ответа на вход : [    1  1043    59 10262     2     0     0     0     0     0     0     0]\n",
            "Размеры кодированного массива ответов на вход : (50001, 12)\n",
            "Установленная длина ответов на вход : 12\n"
          ]
        }
      ]
    },
    {
      "cell_type": "code",
      "source": [
        "# Разбиваем текст ответных фраз на последовательности индексов\n",
        "tokenizedAnswers1 = tokenizer.texts_to_sequences(answers1) \n",
        "\n",
        "# Уточняем длину самого длинного ответа\n",
        "maxLenAnswers1 = max([len(x) for x in tokenizedAnswers1])\n",
        "\n",
        "# Делаем последовательности одной длины, заполняя нулями более ответы\n",
        "paddedAnswers1 = pad_sequences(tokenizedAnswers1, maxlen=maxLenAnswers1, padding='post')\n",
        "\n",
        "# Предподготавливаем данные для входа в сеть, переводим в numpy массив\n",
        "decoderForInput1 = np.array(paddedAnswers1)               \n",
        "\n",
        "# Выведем на экран\n",
        "print('Пример оригинального ответа на вход: {}'.format(answers1[100]))                         \n",
        "print('Пример кодированного ответа на вход : {}'.format(decoderForInput1[100][:30]))           \n",
        "print('Размеры кодированного массива ответов на вход : {}'.format(decoderForInput1.shape))     \n",
        "print('Установленная длина ответов на вход : {}'.format(maxLenAnswers1))     "
      ],
      "metadata": {
        "colab": {
          "base_uri": "https://localhost:8080/"
        },
        "id": "yxlFrmnw0Lpz",
        "outputId": "798e1845-06ef-4bb1-8b40-2ab5425554cf"
      },
      "execution_count": null,
      "outputs": [
        {
          "output_type": "stream",
          "name": "stdout",
          "text": [
            "Пример оригинального ответа на вход: <START> Freeze! <END>\n",
            "Пример кодированного ответа на вход : [   1 7350    2    0    0    0    0    0]\n",
            "Размеры кодированного массива ответов на вход : (50001, 8)\n",
            "Установленная длина ответов на вход : 8\n"
          ]
        }
      ]
    },
    {
      "cell_type": "code",
      "source": [
        "# Разбиваем текст ответов на последовательности индексов\n",
        "tokenizedAnswers = tokenizer.texts_to_sequences(answers) \n",
        "\n",
        "for i in range(len(tokenizedAnswers)) :                  # Для разбитых на последовательности ответов\n",
        "    tokenizedAnswers[i] = tokenizedAnswers[i][1:]          # Избавляемся от тега <START>\n",
        "\n",
        "# Делаем последовательности одной длины, заполняя нулями более короткие ответы\n",
        "paddedAnswers = pad_sequences(tokenizedAnswers, maxlen=maxLenAnswers , padding='post') \n",
        "\n",
        "# И сохраняем в виде массива numpy\n",
        "decoderForOutput = np.array(paddedAnswers)                                             "
      ],
      "metadata": {
        "id": "MxR-tOBVvuT3"
      },
      "execution_count": null,
      "outputs": []
    },
    {
      "cell_type": "code",
      "source": [
        "# Разбиваем текст ответов на последовательности индексов\n",
        "tokenizedAnswers1 = tokenizer.texts_to_sequences(answers1) \n",
        "\n",
        "for i in range(len(tokenizedAnswers1)) :                  # Для разбитых на последовательности ответов\n",
        "    tokenizedAnswers1[i] = tokenizedAnswers1[i][1:]          # Избавляемся от тега <START>\n",
        "\n",
        "# Делаем последовательности одной длины, заполняя нулями более короткие ответы\n",
        "paddedAnswers1 = pad_sequences(tokenizedAnswers1, maxlen=maxLenAnswers1 , padding='post') \n",
        "\n",
        "# И сохраняем в виде массива numpy\n",
        "decoderForOutput1 = np.array(paddedAnswers1)                                             "
      ],
      "metadata": {
        "id": "eYdDjQ6A0l4j"
      },
      "execution_count": null,
      "outputs": []
    },
    {
      "cell_type": "code",
      "source": [
        "# Выведем на экран\n",
        "\n",
        "print('Пример кодированного ответа на вход : {}'.format(decoderForInput[100][:21]))   \n",
        "print('Пример кодированного ответа на выход : {}'.format(decoderForOutput[100][:21]))\n",
        "print('Размеры кодированного массива ответов на выход : {}'.format(decoderForOutput.shape))  \n",
        "print('Установленная длина вопросов на выход : {}'.format(maxLenAnswers))                    "
      ],
      "metadata": {
        "colab": {
          "base_uri": "https://localhost:8080/"
        },
        "id": "WBZ9mKxevwfn",
        "outputId": "e3f127c4-ade6-4f21-a2d7-4d56f7da35d6"
      },
      "execution_count": null,
      "outputs": [
        {
          "output_type": "stream",
          "name": "stdout",
          "text": [
            "Пример кодированного ответа на вход : [    1  1043    59 10262     2     0     0     0     0     0     0     0]\n",
            "Пример кодированного ответа на выход : [ 1043    59 10262     2     0     0     0     0     0     0     0     0]\n",
            "Размеры кодированного массива ответов на выход : (50001, 12)\n",
            "Установленная длина вопросов на выход : 12\n"
          ]
        }
      ]
    },
    {
      "cell_type": "code",
      "source": [
        "# Выведем на экран\n",
        "\n",
        "print('Пример кодированного ответа на вход : {}'.format(decoderForInput1[100][:21]))   \n",
        "print('Пример кодированного ответа на выход : {}'.format(decoderForOutput1[100][:21]))\n",
        "print('Размеры кодированного массива ответов на выход : {}'.format(decoderForOutput1.shape))  \n",
        "print('Установленная длина вопросов на выход : {}'.format(maxLenAnswers1))                    "
      ],
      "metadata": {
        "colab": {
          "base_uri": "https://localhost:8080/"
        },
        "id": "nRMBz8aT08Eb",
        "outputId": "2b5f41e0-db5d-4684-f681-5a0eba7b14f2"
      },
      "execution_count": null,
      "outputs": [
        {
          "output_type": "stream",
          "name": "stdout",
          "text": [
            "Пример кодированного ответа на вход : [   1 7350    2    0    0    0    0    0]\n",
            "Пример кодированного ответа на выход : [7350    2    0    0    0    0    0    0]\n",
            "Размеры кодированного массива ответов на выход : (50001, 8)\n",
            "Установленная длина вопросов на выход : 8\n"
          ]
        }
      ]
    },
    {
      "cell_type": "code",
      "source": [
        "# Создадим энкодер \n",
        "\n",
        "encoderInputs = Input(shape=(None , ))                                             # Добавим входной слой\n",
        "encoderEmbedding = Embedding(vocabularySize, 200 , mask_zero=True)(encoderInputs)  # Добавим эмбеддинг\n",
        "encoderOutputs, state_h , state_c = LSTM(200, return_state=True)(encoderEmbedding) # Добавим LSTM\n",
        "encoderStates = [state_h, state_c]                                                 # Соберем выходы lstm  в список    "
      ],
      "metadata": {
        "id": "niHK2ydHv0Ev"
      },
      "execution_count": null,
      "outputs": []
    },
    {
      "cell_type": "code",
      "source": [
        "# Создадим энкодер 1\n",
        "\n",
        "encoderInputs1 = Input(shape=(None , ))                                             # Добавим входной слой\n",
        "encoderEmbedding1 = Embedding(vocabularySize1, 200 , mask_zero=True)(encoderInputs1)  # Добавим эмбеддинг\n",
        "encoderOutputs1, state_h1 , state_c1 = LSTM(200, return_state=True)(encoderEmbedding1) # Добавим LSTM\n",
        "encoderStates1 = [state_h1, state_c1]                                                 # Соберем выходы lstm  в список    "
      ],
      "metadata": {
        "id": "rpmshkj38tSD"
      },
      "execution_count": null,
      "outputs": []
    },
    {
      "cell_type": "code",
      "source": [
        "# Создадим декодер \n",
        "\n",
        "decoderInputs = Input(shape=(None, ))                                                # Добавим входной слой\n",
        "decoderEmbedding = Embedding(vocabularySize, 200, mask_zero=True) (decoderInputs)    # Добавим эмбеддинг\n",
        "decoderLSTM = LSTM(200, return_state=True, return_sequences=True)                    # Создадим LSTM слой\n",
        "decoderOutputs , _ , _ = decoderLSTM (decoderEmbedding, initial_state=encoderStates) # Прогоним выход embedding через LSTM\n",
        "decoderDense = Dense(vocabularySize, activation='softmax')                           # Создадим dense слой\n",
        "output = decoderDense (decoderOutputs)                                               # Прогоним  выход LSTM через DENSE"
      ],
      "metadata": {
        "id": "gNPP62Azv5Ri"
      },
      "execution_count": null,
      "outputs": []
    },
    {
      "cell_type": "code",
      "source": [
        "# Создадим декодер 1\n",
        "\n",
        "decoderInputs1 = Input(shape=(None, ))                                                # Добавим входной слой\n",
        "decoderEmbedding1 = Embedding(vocabularySize1, 200, mask_zero=True) (decoderInputs1)    # Добавим эмбеддинг\n",
        "decoderLSTM1 = LSTM(200, return_state=True, return_sequences=True)                    # Создадим LSTM слой\n",
        "decoderOutputs1 , _ , _ = decoderLSTM1 (decoderEmbedding1, initial_state=encoderStates1) # Прогоним выход embedding через LSTM\n",
        "decoderDense1 = Dense(vocabularySize1, activation='softmax')                           # Создадим dense слой\n",
        "output1 = decoderDense1 (decoderOutputs1)                                               # Прогоним  выход LSTM через DENSE"
      ],
      "metadata": {
        "id": "KrmL7akU892M"
      },
      "execution_count": null,
      "outputs": []
    },
    {
      "cell_type": "code",
      "source": [
        "# Собираем модель\n",
        "\n",
        "model = Model([encoderInputs, decoderInputs], output)"
      ],
      "metadata": {
        "id": "N_Ns8wyWv8cj"
      },
      "execution_count": null,
      "outputs": []
    },
    {
      "cell_type": "code",
      "source": [
        "model1 = Model([encoderInputs1, decoderInputs1], output1)"
      ],
      "metadata": {
        "id": "dO8830Pl1Fzm"
      },
      "execution_count": null,
      "outputs": []
    },
    {
      "cell_type": "code",
      "source": [
        "# Компилиуем модель\n",
        "\n",
        "model.compile(optimizer=RMSprop(), loss='sparse_categorical_crossentropy')"
      ],
      "metadata": {
        "id": "w2IGCaluv-6i"
      },
      "execution_count": null,
      "outputs": []
    },
    {
      "cell_type": "code",
      "source": [
        "# Компилиуем модель\n",
        "\n",
        "model1.compile(optimizer=RMSprop(), loss='sparse_categorical_crossentropy')"
      ],
      "metadata": {
        "id": "h_cjcD_11YrO"
      },
      "execution_count": null,
      "outputs": []
    },
    {
      "cell_type": "code",
      "source": [
        "# Выведем на экран информацию о построенной модели нейросети\n",
        "\n",
        "print(model.summary())  "
      ],
      "metadata": {
        "colab": {
          "base_uri": "https://localhost:8080/"
        },
        "id": "H-jevRPBwBKw",
        "outputId": "17d36209-8542-4dca-d761-bbed4f746b30"
      },
      "execution_count": null,
      "outputs": [
        {
          "output_type": "stream",
          "name": "stdout",
          "text": [
            "Model: \"model_2\"\n",
            "__________________________________________________________________________________________________\n",
            " Layer (type)                   Output Shape         Param #     Connected to                     \n",
            "==================================================================================================\n",
            " input_5 (InputLayer)           [(None, None)]       0           []                               \n",
            "                                                                                                  \n",
            " input_7 (InputLayer)           [(None, None)]       0           []                               \n",
            "                                                                                                  \n",
            " embedding_4 (Embedding)        (None, None, 200)    5292800     ['input_5[0][0]']                \n",
            "                                                                                                  \n",
            " embedding_6 (Embedding)        (None, None, 200)    5292800     ['input_7[0][0]']                \n",
            "                                                                                                  \n",
            " lstm_4 (LSTM)                  [(None, 200),        320800      ['embedding_4[0][0]']            \n",
            "                                 (None, 200),                                                     \n",
            "                                 (None, 200)]                                                     \n",
            "                                                                                                  \n",
            " lstm_6 (LSTM)                  [(None, None, 200),  320800      ['embedding_6[0][0]',            \n",
            "                                 (None, 200),                     'lstm_4[0][1]',                 \n",
            "                                 (None, 200)]                     'lstm_4[0][2]']                 \n",
            "                                                                                                  \n",
            " dense_2 (Dense)                (None, None, 26464)  5319264     ['lstm_6[0][0]']                 \n",
            "                                                                                                  \n",
            "==================================================================================================\n",
            "Total params: 16,546,464\n",
            "Trainable params: 16,546,464\n",
            "Non-trainable params: 0\n",
            "__________________________________________________________________________________________________\n",
            "None\n"
          ]
        }
      ]
    },
    {
      "cell_type": "code",
      "source": [
        "# Выведем на экран информацию о построенной модели нейросети\n",
        "\n",
        "print(model1.summary())  "
      ],
      "metadata": {
        "colab": {
          "base_uri": "https://localhost:8080/"
        },
        "id": "TMlV52OF1f3L",
        "outputId": "3284c230-387c-49c1-d543-de153fb3af74"
      },
      "execution_count": null,
      "outputs": [
        {
          "output_type": "stream",
          "name": "stdout",
          "text": [
            "Model: \"model_3\"\n",
            "__________________________________________________________________________________________________\n",
            " Layer (type)                   Output Shape         Param #     Connected to                     \n",
            "==================================================================================================\n",
            " input_6 (InputLayer)           [(None, None)]       0           []                               \n",
            "                                                                                                  \n",
            " input_8 (InputLayer)           [(None, None)]       0           []                               \n",
            "                                                                                                  \n",
            " embedding_5 (Embedding)        (None, None, 200)    5292800     ['input_6[0][0]']                \n",
            "                                                                                                  \n",
            " embedding_7 (Embedding)        (None, None, 200)    5292800     ['input_8[0][0]']                \n",
            "                                                                                                  \n",
            " lstm_5 (LSTM)                  [(None, 200),        320800      ['embedding_5[0][0]']            \n",
            "                                 (None, 200),                                                     \n",
            "                                 (None, 200)]                                                     \n",
            "                                                                                                  \n",
            " lstm_7 (LSTM)                  [(None, None, 200),  320800      ['embedding_7[0][0]',            \n",
            "                                 (None, 200),                     'lstm_5[0][1]',                 \n",
            "                                 (None, 200)]                     'lstm_5[0][2]']                 \n",
            "                                                                                                  \n",
            " dense_3 (Dense)                (None, None, 26464)  5319264     ['lstm_7[0][0]']                 \n",
            "                                                                                                  \n",
            "==================================================================================================\n",
            "Total params: 16,546,464\n",
            "Trainable params: 16,546,464\n",
            "Non-trainable params: 0\n",
            "__________________________________________________________________________________________________\n",
            "None\n"
          ]
        }
      ]
    },
    {
      "cell_type": "code",
      "source": [
        "# Построим график для визуализации слоев и связей между ними\n",
        "\n",
        "plot_model(model, to_file='model.png')"
      ],
      "metadata": {
        "colab": {
          "base_uri": "https://localhost:8080/",
          "height": 466
        },
        "id": "jq2GyJixwD2q",
        "outputId": "89a3f2bc-eb75-4e60-cbf9-2c934fdf666f"
      },
      "execution_count": null,
      "outputs": [
        {
          "output_type": "execute_result",
          "data": {
            "image/png": "[encoded data removed]",
            "text/plain": [
              "<IPython.core.display.Image object>"
            ]
          },
          "metadata": {},
          "execution_count": 56
        }
      ]
    },
    {
      "cell_type": "code",
      "source": [
        "# Построим график для визуализации слоев и связей между ними\n",
        "\n",
        "plot_model(model1, to_file='model.png')"
      ],
      "metadata": {
        "colab": {
          "base_uri": "https://localhost:8080/",
          "height": 466
        },
        "id": "WmlQjYUX1jsT",
        "outputId": "17668011-83ce-4bc6-f966-917f238fc53b"
      },
      "execution_count": null,
      "outputs": [
        {
          "output_type": "execute_result",
          "data": {
            "image/png": "[encoded data removed]",
            "text/plain": [
              "<IPython.core.display.Image object>"
            ]
          },
          "metadata": {},
          "execution_count": 57
        }
      ]
    },
    {
      "cell_type": "code",
      "source": [
        "# Запустим обучение\n",
        "model.fit([encoderForInput , decoderForInput], decoderForOutput, batch_size=256, epochs=30) \n",
        "\n",
        "# Сохраним модель на диске\n",
        "model.save( 'content/model_30epochs(rms).h5' )"
      ],
      "metadata": {
        "colab": {
          "base_uri": "https://localhost:8080/"
        },
        "id": "_Ti5A9O2wHjA",
        "outputId": "f6a736b3-09b1-4b72-d2cc-59696e5786e3"
      },
      "execution_count": null,
      "outputs": [
        {
          "output_type": "stream",
          "name": "stdout",
          "text": [
            "Epoch 1/30\n",
            "196/196 [==============================] - 30s 107ms/step - loss: 2.0072\n",
            "Epoch 2/30\n",
            "196/196 [==============================] - 21s 107ms/step - loss: 1.5492\n",
            "Epoch 3/30\n",
            "196/196 [==============================] - 21s 107ms/step - loss: 1.3856\n",
            "Epoch 4/30\n",
            "196/196 [==============================] - 21s 107ms/step - loss: 1.2771\n",
            "Epoch 5/30\n",
            "196/196 [==============================] - 21s 107ms/step - loss: 1.1900\n",
            "Epoch 6/30\n",
            "196/196 [==============================] - 21s 107ms/step - loss: 1.1147\n",
            "Epoch 7/30\n",
            "196/196 [==============================] - 21s 107ms/step - loss: 1.0489\n",
            "Epoch 8/30\n",
            "196/196 [==============================] - 21s 106ms/step - loss: 0.9898\n",
            "Epoch 9/30\n",
            "196/196 [==============================] - 21s 107ms/step - loss: 0.9396\n",
            "Epoch 10/30\n",
            "196/196 [==============================] - 21s 107ms/step - loss: 0.8927\n",
            "Epoch 11/30\n",
            "196/196 [==============================] - 21s 106ms/step - loss: 0.8503\n",
            "Epoch 12/30\n",
            "196/196 [==============================] - 21s 107ms/step - loss: 0.8135\n",
            "Epoch 13/30\n",
            "196/196 [==============================] - 21s 106ms/step - loss: 0.7801\n",
            "Epoch 14/30\n",
            "196/196 [==============================] - 21s 106ms/step - loss: 0.7487\n",
            "Epoch 15/30\n",
            "196/196 [==============================] - 21s 106ms/step - loss: 0.7197\n",
            "Epoch 16/30\n",
            "196/196 [==============================] - 21s 106ms/step - loss: 0.6951\n",
            "Epoch 17/30\n",
            "196/196 [==============================] - 21s 107ms/step - loss: 0.6699\n",
            "Epoch 18/30\n",
            "196/196 [==============================] - 21s 107ms/step - loss: 0.6468\n",
            "Epoch 19/30\n",
            "196/196 [==============================] - 21s 107ms/step - loss: 0.6274\n",
            "Epoch 20/30\n",
            "196/196 [==============================] - 21s 106ms/step - loss: 0.6113\n",
            "Epoch 21/30\n",
            "196/196 [==============================] - 21s 107ms/step - loss: 0.5964\n",
            "Epoch 22/30\n",
            "196/196 [==============================] - 21s 106ms/step - loss: 0.5800\n",
            "Epoch 23/30\n",
            "196/196 [==============================] - 21s 107ms/step - loss: 0.5634\n",
            "Epoch 24/30\n",
            "196/196 [==============================] - 21s 107ms/step - loss: 0.5497\n",
            "Epoch 25/30\n",
            "196/196 [==============================] - 21s 107ms/step - loss: 0.5377\n",
            "Epoch 26/30\n",
            "196/196 [==============================] - 21s 106ms/step - loss: 0.5268\n",
            "Epoch 27/30\n",
            "196/196 [==============================] - 21s 106ms/step - loss: 0.5167\n",
            "Epoch 28/30\n",
            "196/196 [==============================] - 21s 106ms/step - loss: 0.5078\n",
            "Epoch 29/30\n",
            "196/196 [==============================] - 21s 106ms/step - loss: 0.4984\n",
            "Epoch 30/30\n",
            "196/196 [==============================] - 21s 106ms/step - loss: 0.4891\n"
          ]
        }
      ]
    },
    {
      "cell_type": "code",
      "source": [
        "# Сохраним веса модели\n",
        "model.save_weights('content/s2s_30epochs.h5')"
      ],
      "metadata": {
        "id": "t3vFZ69EwK5z"
      },
      "execution_count": null,
      "outputs": []
    },
    {
      "cell_type": "code",
      "source": [
        "# Запустим обучение\n",
        "model1.fit([encoderForInput1 , decoderForInput1], decoderForOutput1, batch_size=256, epochs=30) \n",
        "\n",
        "# Сохраним модель на диске\n",
        "model1.save( 'content/model_30epochs(rms)1.h5' )"
      ],
      "metadata": {
        "colab": {
          "base_uri": "https://localhost:8080/"
        },
        "id": "vk4Q2ri_4Gsn",
        "outputId": "0040c21d-deab-44c8-e831-3d49c16f37e7"
      },
      "execution_count": null,
      "outputs": [
        {
          "output_type": "stream",
          "name": "stdout",
          "text": [
            "Epoch 1/30\n",
            "196/196 [==============================] - 26s 86ms/step - loss: 2.9329\n",
            "Epoch 2/30\n",
            "196/196 [==============================] - 17s 85ms/step - loss: 2.1082\n",
            "Epoch 3/30\n",
            "196/196 [==============================] - 17s 85ms/step - loss: 1.8168\n",
            "Epoch 4/30\n",
            "196/196 [==============================] - 17s 85ms/step - loss: 1.6041\n",
            "Epoch 5/30\n",
            "196/196 [==============================] - 17s 85ms/step - loss: 1.4309\n",
            "Epoch 6/30\n",
            "196/196 [==============================] - 17s 85ms/step - loss: 1.2889\n",
            "Epoch 7/30\n",
            "196/196 [==============================] - 17s 85ms/step - loss: 1.1705\n",
            "Epoch 8/30\n",
            "196/196 [==============================] - 17s 85ms/step - loss: 1.0712\n",
            "Epoch 9/30\n",
            "196/196 [==============================] - 17s 85ms/step - loss: 0.9822\n",
            "Epoch 10/30\n",
            "196/196 [==============================] - 17s 85ms/step - loss: 0.9017\n",
            "Epoch 11/30\n",
            "196/196 [==============================] - 17s 85ms/step - loss: 0.8302\n",
            "Epoch 12/30\n",
            "196/196 [==============================] - 17s 85ms/step - loss: 0.7685\n",
            "Epoch 13/30\n",
            "196/196 [==============================] - 17s 85ms/step - loss: 0.7116\n",
            "Epoch 14/30\n",
            "196/196 [==============================] - 17s 85ms/step - loss: 0.6580\n",
            "Epoch 15/30\n",
            "196/196 [==============================] - 17s 85ms/step - loss: 0.6090\n",
            "Epoch 16/30\n",
            "196/196 [==============================] - 17s 85ms/step - loss: 0.5631\n",
            "Epoch 17/30\n",
            "196/196 [==============================] - 17s 85ms/step - loss: 0.5229\n",
            "Epoch 18/30\n",
            "196/196 [==============================] - 17s 85ms/step - loss: 0.4885\n",
            "Epoch 19/30\n",
            "196/196 [==============================] - 17s 85ms/step - loss: 0.4578\n",
            "Epoch 20/30\n",
            "196/196 [==============================] - 17s 85ms/step - loss: 0.4297\n",
            "Epoch 21/30\n",
            "196/196 [==============================] - 17s 85ms/step - loss: 0.4012\n",
            "Epoch 22/30\n",
            "196/196 [==============================] - 17s 85ms/step - loss: 0.3762\n",
            "Epoch 23/30\n",
            "196/196 [==============================] - 17s 85ms/step - loss: 0.3557\n",
            "Epoch 24/30\n",
            "196/196 [==============================] - 17s 85ms/step - loss: 0.3374\n",
            "Epoch 25/30\n",
            "196/196 [==============================] - 17s 85ms/step - loss: 0.3213\n",
            "Epoch 26/30\n",
            "196/196 [==============================] - 17s 85ms/step - loss: 0.3065\n",
            "Epoch 27/30\n",
            "196/196 [==============================] - 17s 85ms/step - loss: 0.2919\n",
            "Epoch 28/30\n",
            "196/196 [==============================] - 17s 85ms/step - loss: 0.2780\n",
            "Epoch 29/30\n",
            "196/196 [==============================] - 17s 85ms/step - loss: 0.2662\n",
            "Epoch 30/30\n",
            "196/196 [==============================] - 17s 84ms/step - loss: 0.2554\n"
          ]
        }
      ]
    },
    {
      "cell_type": "code",
      "source": [
        "# Сохраним веса модели\n",
        "model.save_weights('content/s2s_30epochs1.h5')"
      ],
      "metadata": {
        "id": "6kOTysPQ4Nkr"
      },
      "execution_count": null,
      "outputs": []
    },
    {
      "cell_type": "markdown",
      "source": [
        "# 1"
      ],
      "metadata": {
        "id": "2RWM1ZaO1o4j"
      }
    },
    {
      "cell_type": "code",
      "source": [
        "def makeInferenceModels():\n",
        "\n",
        "    ''' Функция сборки сети для перевода фраз из уже обученных слов\n",
        "\n",
        "        Args: -\n",
        "\n",
        "        Returns: модели энкодера и декодера   \n",
        "    '''    \n",
        "\n",
        "    # Создадим модель кодера, на входе далее будут закодированные вопросы, на выходе состояния state_h, state_c\n",
        "    encoderModel = Model(encoderInputs, encoderStates) \n",
        "\n",
        "    # Создадим модель декодера\n",
        "    decoderStateInput_h = Input(shape=(200 ,)) # Добавим входной слой для state_h\n",
        "    decoderStateInput_c = Input(shape=(200 ,)) # Добавим входной слой для state_c\n",
        "\n",
        "    # Соберем оба inputs вместе и запишем в decoderStatesInputs\n",
        "    decoderStatesInputs = [decoderStateInput_h, decoderStateInput_c] \n",
        "\n",
        "    # Берём ответы, прошедшие через эмбединг, вместе с состояниями и подаём LSTM cлою\n",
        "    decoderOutputs, state_h, state_c = decoderLSTM(decoderEmbedding, initial_state=decoderStatesInputs) \n",
        "    \n",
        "    # LSTM даст нам новые состояния\n",
        "    decoderStates = [state_h, state_c]            \n",
        "    \n",
        "    # И ответы, которые мы пропустим через полносвязный слой с софтмаксом\n",
        "    decoderOutputs = decoderDense(decoderOutputs) \n",
        "\n",
        "    # Определим модель декодера, на входе далее будут раскодированные ответы (decoderForInputs) и состояния\n",
        "    # на выходе предсказываемый ответ и новые состояния\n",
        "    decoderModel = Model([decoderInputs] + decoderStatesInputs, [decoderOutputs] + decoderStates)\n",
        "\n",
        "    # Вернем рабочие модели энкодера и декодера  \n",
        "    return encoderModel , decoderModel"
      ],
      "metadata": {
        "id": "saPgrwLHwOO1"
      },
      "execution_count": null,
      "outputs": []
    },
    {
      "cell_type": "code",
      "source": [
        "def makeInferenceModels1():\n",
        "\n",
        "    ''' Функция сборки сети для перевода фраз из уже обученных слов\n",
        "\n",
        "        Args: -\n",
        "\n",
        "        Returns: модели энкодера и декодера   \n",
        "    '''    \n",
        "\n",
        "    # Создадим модель кодера, на входе далее будут закодированные вопросы, на выходе состояния state_h, state_c\n",
        "    encoderModel1 = Model(encoderInputs1, encoderStates1) \n",
        "\n",
        "    # Создадим модель декодера\n",
        "    decoderStateInput_h1 = Input(shape=(200 ,)) # Добавим входной слой для state_h\n",
        "    decoderStateInput_c1 = Input(shape=(200 ,)) # Добавим входной слой для state_c\n",
        "\n",
        "    # Соберем оба inputs вместе и запишем в decoderStatesInputs\n",
        "    decoderStatesInputs1 = [decoderStateInput_h1, decoderStateInput_c1] \n",
        "\n",
        "    # Берём ответы, прошедшие через эмбединг, вместе с состояниями и подаём LSTM cлою\n",
        "    decoderOutputs1, state_h1, state_c1 = decoderLSTM1(decoderEmbedding1, initial_state=decoderStatesInputs1) \n",
        "    \n",
        "    # LSTM даст нам новые состояния\n",
        "    decoderStates1 = [state_h1, state_c1]            \n",
        "    \n",
        "    # И ответы, которые мы пропустим через полносвязный слой с софтмаксом\n",
        "    decoderOutputs1 = decoderDense1(decoderOutputs1) \n",
        "\n",
        "    # Определим модель декодера, на входе далее будут раскодированные ответы (decoderForInputs) и состояния\n",
        "    # на выходе предсказываемый ответ и новые состояния\n",
        "    decoderModel1 = Model([decoderInputs1] + decoderStatesInputs1, [decoderOutputs1] + decoderStates1)\n",
        "\n",
        "    # Вернем рабочие модели энкодера и декодера  \n",
        "    return encoderModel1 , decoderModel1"
      ],
      "metadata": {
        "id": "FTScjE8D69MD"
      },
      "execution_count": null,
      "outputs": []
    },
    {
      "cell_type": "code",
      "source": [
        "def strToTokens(sentence: str):      \n",
        "\n",
        "    ''' Функция для удаления пробелов перед знаками препинания\n",
        "\n",
        "        Args: фраза\n",
        "\n",
        "        Returns: список токенов\n",
        "    '''\n",
        "\n",
        "    # Почистим фразу\n",
        "    tmp_sent = my_replacer(sentence)  \n",
        "    \n",
        "    # Приведем предложение к нижнему регистру и разбирает на слова\n",
        "    words = tmp_sent.lower().split()  \n",
        "    \n",
        "    # Создадим список для последовательности токенов/индексов\n",
        "    tokensList = list()               \n",
        "\n",
        "    # Для каждого слова в предложении\n",
        "    for word in words:\n",
        "        \n",
        "        try:\n",
        "            tokensList.append(tokenizer.word_index[word]) # Определяем токенайзером индекс и добавляем в список\n",
        "        except:\n",
        "            pass # Слова нет - просто игнорируем его\n",
        "\n",
        "    # Вернёт входную фразу в виде последовательности индексов\n",
        "    if tokensList:\n",
        "        return pad_sequences([tokensList], maxlen=maxLenQuestions , padding='post')\n",
        "\n",
        "    # Фраза из незнакомых слов - вернем None \n",
        "    return None"
      ],
      "metadata": {
        "id": "CTKcAyAXwRhw"
      },
      "execution_count": null,
      "outputs": []
    },
    {
      "cell_type": "code",
      "source": [
        "def strToTokens1(sentence1: str):      \n",
        "\n",
        "    ''' Функция для удаления пробелов перед знаками препинания\n",
        "\n",
        "        Args: фраза\n",
        "\n",
        "        Returns: список токенов\n",
        "    '''\n",
        "\n",
        "    # Почистим фразу\n",
        "    tmp_sent = my_replacer(sentence1)  \n",
        "    \n",
        "    # Приведем предложение к нижнему регистру и разбирает на слова\n",
        "    words = tmp_sent.lower().split()  \n",
        "    \n",
        "    # Создадим список для последовательности токенов/индексов\n",
        "    tokensList = list()               \n",
        "\n",
        "    # Для каждого слова в предложении\n",
        "    for word in words:\n",
        "        \n",
        "        try:\n",
        "            tokensList.append(tokenizer.word_index[word]) # Определяем токенайзером индекс и добавляем в список\n",
        "        except:\n",
        "            pass # Слова нет - просто игнорируем его\n",
        "\n",
        "    # Вернёт входную фразу в виде последовательности индексов\n",
        "    if tokensList:\n",
        "        return pad_sequences([tokensList], maxlen=maxLenQuestions1 , padding='post')\n",
        "\n",
        "    # Фраза из незнакомых слов - вернем None \n",
        "    return None"
      ],
      "metadata": {
        "id": "iGtdKAWYIlO0"
      },
      "execution_count": null,
      "outputs": []
    },
    {
      "cell_type": "code",
      "source": [
        "import numpy as np\n",
        "emptyTargetSeq = np.zeros((1, 1))\n",
        "\n",
        "\n",
        "emptyTargetSeq[0, 0] = 5\n",
        "\n",
        "emptyTargetSeq"
      ],
      "metadata": {
        "colab": {
          "base_uri": "https://localhost:8080/"
        },
        "id": "LSju37HDwT6A",
        "outputId": "ff3c2559-67d9-47f4-cee4-ddb802b53e3a"
      },
      "execution_count": null,
      "outputs": [
        {
          "output_type": "execute_result",
          "data": {
            "text/plain": [
              "array([[5.]])"
            ]
          },
          "metadata": {},
          "execution_count": 66
        }
      ]
    },
    {
      "cell_type": "code",
      "source": [
        "encModel , decModel = makeInferenceModels() "
      ],
      "metadata": {
        "id": "yRgoqKGawXWw"
      },
      "execution_count": null,
      "outputs": []
    },
    {
      "cell_type": "code",
      "source": [
        "encModel1 , decModel1 = makeInferenceModels1() "
      ],
      "metadata": {
        "id": "X_jtEDQIJIIU"
      },
      "execution_count": null,
      "outputs": []
    },
    {
      "cell_type": "code",
      "source": [
        "# Цикл по количеству входных фраз - их 6\n",
        "\n",
        "for _ in range(6):\n",
        "\n",
        "    # подготовка\n",
        "    \n",
        "    qua  = strToTokens(input('Исходное предложение на английском: '))\n",
        "    if qua is None:                                      \n",
        "        print (\"а вот спросите меня о чем-нить полезном: \")  # Выдадим дежурную фразу\n",
        "        continue                                             # Пойдем за следущей фразой\n",
        "\n",
        "    emptyTargetSeq = np.zeros((1, 1))                    \n",
        "    emptyTargetSeq[0, 0] = tokenizer.word_index['start'] \n",
        "    stopCondition = False                                \n",
        "    decodedTranslation = '' \n",
        "    statesValues = encModel.predict(qua)                              \n",
        "\n",
        "    # пока не сработало стоп-условие\n",
        "    while not stopCondition:                             \n",
        "\n",
        "        # В модель декодера подадим пустую последовательность со словом 'start' и состояния\n",
        "        decOutputs , h , c = decModel.predict([emptyTargetSeq] + statesValues)\n",
        "        # Получим индекс предсказанного слова.\n",
        "        sampledWordIndex = np.argmax( decOutputs[0, 0, :]) \n",
        "        # Создаем переменную для преобразованных на естественный язык слов\n",
        "        sampledWord = None                                 \n",
        "\n",
        "        # Переберем в цикле все индексы токенайзера\n",
        "        for word, index in tokenizer.word_index.items():\n",
        "\n",
        "        \n",
        "        # Если индекс выбранного слова соответствует какому-то индексу из словаря\n",
        "          if sampledWordIndex == index:              \n",
        "            # Слово, идущее под этим индексом в словаре, добавляется в итоговый ответ \n",
        "            decodedTranslation += ' {}'.format(word) \n",
        "            # Выбранное слово фиксируем в переменную sampledWord\n",
        "            sampledWord = word                       \n",
        "        \n",
        "        # Если выбранным словом оказывается 'end' либо если сгенерированный ответ превышает заданную максимальную длину ответа\n",
        "          if sampledWord == 'end' or len(decodedTranslation.split()) > maxLenAnswers:\n",
        "            stopCondition = True # Срабатывает стоп-условие и прекращаем генерацию\n",
        "\n",
        "        # Создаем пустой массив\n",
        "          emptyTargetSeq = np.zeros((1, 1))       \n",
        "        \n",
        "        # Заносим в него индекс выбранного слова\n",
        "          emptyTargetSeq[0, 0] = sampledWordIndex \n",
        "        \n",
        "        # Записываем состояния, обновленные декодером \n",
        "          statesValues = [h, c]   \n",
        "\n",
        "        # И продолжаем цикл с обновленными параметрами                \n",
        "                                                \n",
        "    # Выводим ответ сгенерированный декодером\n",
        "    print(\"Перевод: \", decodedTranslation)\n",
        "\n",
        "\n",
        "    # подготовка\n",
        "    \n",
        "    qua  = strToTokens1(decodedTranslation)\n",
        "    if qua is None:                                      \n",
        "        print (\"а вот спросите меня о чем-нить полезном: \")  # Выдадим дежурную фразу\n",
        "        continue                                             # Пойдем за следущей фразой\n",
        "\n",
        "    emptyTargetSeq = np.zeros((1, 1))                    \n",
        "    emptyTargetSeq[0, 0] = tokenizer.word_index['start'] \n",
        "    stopCondition = False                                \n",
        "    decodedTranslation = '' \n",
        "    statesValues = encModel1.predict(qua)                              \n",
        "\n",
        "    # пока не сработало стоп-условие\n",
        "    while not stopCondition:                             \n",
        "\n",
        "        # В модель декодера подадим пустую последовательность со словом 'start' и состояния\n",
        "        decOutputs , h , c = decModel1.predict([emptyTargetSeq] + statesValues)\n",
        "        # Получим индекс предсказанного слова.\n",
        "        sampledWordIndex = np.argmax( decOutputs[0, 0, :]) \n",
        "        # Создаем переменную для преобразованных на естественный язык слов\n",
        "        sampledWord = None                                 \n",
        "\n",
        "        # Переберем в цикле все индексы токенайзера\n",
        "        for word, index in tokenizer.word_index.items():\n",
        "\n",
        "        \n",
        "        # Если индекс выбранного слова соответствует какому-то индексу из словаря\n",
        "          if sampledWordIndex == index:              \n",
        "            # Слово, идущее под этим индексом в словаре, добавляется в итоговый ответ \n",
        "            decodedTranslation += ' {}'.format(word) \n",
        "            # Выбранное слово фиксируем в переменную sampledWord\n",
        "            sampledWord = word                       \n",
        "        \n",
        "        # Если выбранным словом оказывается 'end' либо если сгенерированный ответ превышает заданную максимальную длину ответа\n",
        "          if sampledWord == 'end' or len(decodedTranslation.split()) > maxLenAnswers1:\n",
        "            stopCondition = True # Срабатывает стоп-условие и прекращаем генерацию\n",
        "\n",
        "        # Создаем пустой массив\n",
        "          emptyTargetSeq = np.zeros((1, 1))       \n",
        "        \n",
        "        # Заносим в него индекс выбранного слова\n",
        "          emptyTargetSeq[0, 0] = sampledWordIndex \n",
        "        \n",
        "        # Записываем состояния, обновленные декодером \n",
        "          statesValues = [h, c]   \n",
        "\n",
        "        # И продолжаем цикл с обновленными параметрами                \n",
        "                                                \n",
        "    # Выводим ответ сгенерированный декодером\n",
        "    print(\"Перевод: \", decodedTranslation)     "
      ],
      "metadata": {
        "colab": {
          "base_uri": "https://localhost:8080/"
        },
        "id": "3veX4XRkwb8Q",
        "outputId": "1733565f-0ccd-485e-e29d-cfc0730b268a"
      },
      "execution_count": null,
      "outputs": [
        {
          "output_type": "stream",
          "name": "stdout",
          "text": [
            "Исходное предложение на английском: what is your name?\n",
            "Перевод:   как твоё имя? end\n",
            "Перевод:   what's your name? end\n"
          ]
        }
      ]
    }
  ]
}